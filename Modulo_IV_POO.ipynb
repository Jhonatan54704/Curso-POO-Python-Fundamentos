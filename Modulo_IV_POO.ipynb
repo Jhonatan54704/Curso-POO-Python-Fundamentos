{
 "cells": [
  {
   "cell_type": "markdown",
   "metadata": {},
   "source": [
    "# ATRIBUTOS Y METODOS DE CLASE  ESTATICOS"
   ]
  },
  {
   "cell_type": "code",
   "execution_count": 1,
   "metadata": {},
   "outputs": [
    {
     "name": "stdout",
     "output_type": "stream",
     "text": [
      "Juan\n",
      "Manizales\n"
     ]
    }
   ],
   "source": [
    "class Persona:\n",
    "    ciudad = \"Manizales\"  # Atributo de Clase\n",
    "    \n",
    "    def __init__(self, nombre, edad):\n",
    "        self.nombre = nombre # Atributo de Instancia\n",
    "        self.edad = edad     # Atributo de Instancia\n",
    "\n",
    "p1 = Persona(\"Juan\", 25)\n",
    "print(p1.nombre)  # Accede a la instancia\n",
    "\n",
    "print(p1.ciudad) # Accede al atributo de clase"
   ]
  },
  {
   "cell_type": "markdown",
   "metadata": {},
   "source": [
    "## Metodos de Clase (@classmethod)\n",
    "\n",
    "Acceder a los atributos de clase y se declaran con el decorador @classmethod.\n",
    "Reciben como primer parametro cls"
   ]
  },
  {
   "cell_type": "code",
   "execution_count": 2,
   "metadata": {},
   "outputs": [
    {
     "name": "stdout",
     "output_type": "stream",
     "text": [
      "Villavicencio\n"
     ]
    }
   ],
   "source": [
    "class Persona:\n",
    "    ciudad = \"Manizales\"  # Atributo de Clase\n",
    "    \n",
    "    def __init__(self, nombre, edad):\n",
    "        self.nombre = nombre # Atributo de Instancia\n",
    "        self.edad = edad     # Atributo de Instancia\n",
    "        \n",
    "    @classmethod\n",
    "    def cambiar_ciudad(cls, ciudad):\n",
    "        cls.ciudad = ciudad  # Cambia el atributo de clase\n",
    "        \n",
    "\n",
    "Persona.cambiar_ciudad(\"Villavicencio\")\n",
    "print(Persona.ciudad)"
   ]
  },
  {
   "cell_type": "markdown",
   "metadata": {},
   "source": [
    "## 3. METODOS  ESTATICOS (@estaticmethod)"
   ]
  },
  {
   "cell_type": "markdown",
   "metadata": {},
   "source": [
    "No acceden ni a la instancia(self) ni a la clase(cls) Son funciones utilitarias que estan relacionadas conceptualmente con la clase"
   ]
  },
  {
   "cell_type": "code",
   "execution_count": 9,
   "metadata": {},
   "outputs": [
    {
     "name": "stdout",
     "output_type": "stream",
     "text": [
      "Hoy es un día normal\n"
     ]
    }
   ],
   "source": [
    "import random\n",
    "\n",
    "class Persona:\n",
    "    def __init__(self, nombre, edad):\n",
    "        self.nombre = nombre\n",
    "        self.edad = edad\n",
    "    \n",
    "    @staticmethod\n",
    "    def mensaje_hoy():\n",
    "        mensajes = [\n",
    "            \"Hoy es un gran día\",\n",
    "            \"Hoy es un día normal\",\n",
    "            \"Hoy es un día aburrido\"\n",
    "        ]\n",
    "        return random.choice(mensajes)\n",
    "\n",
    "print(Persona.mensaje_hoy())"
   ]
  },
  {
   "cell_type": "markdown",
   "metadata": {},
   "source": [
    "# ACTIVIDAD PRACTICA DEL MODULO"
   ]
  },
  {
   "cell_type": "markdown",
   "metadata": {},
   "source": [
    "1. Crea una clase llamada Estudiante\n",
    "2. Agrega un atributo de clase llamado **institucion** con el valor **SENA**\n",
    "3. Define los atributos de instancia **nombre** y **edad**\n",
    "4. Crea un método de clase llamado cambiar_institución() que permita modificar el valor de intitución.\n",
    "5. Crea un método estático llamado mensaje_motivador() que imprima un mensaje positivo\n",
    "6. Crea varios objetos y verifica como cambian los valores del atributo de clase al modificarlo desde un método de clase."
   ]
  },
  {
   "cell_type": "markdown",
   "metadata": {},
   "source": []
  },
  {
   "cell_type": "markdown",
   "metadata": {},
   "source": []
  },
  {
   "cell_type": "code",
   "execution_count": null,
   "metadata": {},
   "outputs": [
    {
     "name": "stdout",
     "output_type": "stream",
     "text": [
      "Institución actual:\n",
      "Ana -> SENA\n",
      "Carlos -> SENA\n",
      "Lina -> SENA\n",
      "\n",
      "Institución después del cambio:\n",
      "Ana -> Universidad Pythonística\n",
      "Carlos -> Universidad Pythonística\n",
      "Lina -> Universidad Pythonística\n",
      "\n",
      "Mensaje motivador para todos los estudiantes:\n",
      "¡Sigue adelante, lo estás haciendo excelente!\n"
     ]
    }
   ],
   "source": [
    "#Ejercicio\n",
    "class Estudiante:\n",
    "    institucion = \"SENA\"\n",
    "\n",
    "    def __init__(self, nombre, edad):\n",
    "        self.nombre = nombre\n",
    "        self.edad = edad\n",
    "\n",
    "    @classmethod\n",
    "    def cambiar_institucion(cls, nueva_institucion):\n",
    "        cls.institucion = nueva_institucion\n",
    "\n",
    "    @staticmethod\n",
    "    def mensaje_motivador():\n",
    "        print(\"¡Sigue adelante, lo estás haciendo excelente!\")\n",
    "\n",
    "est1 = Estudiante(\"Ana\", 22)\n",
    "est2 = Estudiante(\"Carlos\", 25)\n",
    "est3 = Estudiante(\"Lina\", 20)\n",
    "\n",
    "print(\"Institución actual:\")\n",
    "print(est1.nombre, \"->\", est1.institucion)\n",
    "print(est2.nombre, \"->\", est2.institucion)\n",
    "print(est3.nombre, \"->\", est3.institucion)\n",
    "\n",
    "Estudiante.cambiar_institucion(\"Universidad Pythonística\")\n",
    "\n",
    "print(\"\\nInstitución después del cambio:\")\n",
    "print(est1.nombre, \"->\", est1.institucion)\n",
    "print(est2.nombre, \"->\", est2.institucion)\n",
    "print(est3.nombre, \"->\", est3.institucion)\n",
    "\n",
    "print(\"\\nMensaje motivador para todos los estudiantes:\")\n",
    "Estudiante.mensaje_motivador()\n",
    "\n"
   ]
  }
 ],
 "metadata": {
  "kernelspec": {
   "display_name": "Python 3",
   "language": "python",
   "name": "python3"
  },
  "language_info": {
   "codemirror_mode": {
    "name": "ipython",
    "version": 3
   },
   "file_extension": ".py",
   "mimetype": "text/x-python",
   "name": "python",
   "nbconvert_exporter": "python",
   "pygments_lexer": "ipython3",
   "version": "3.13.3"
  }
 },
 "nbformat": 4,
 "nbformat_minor": 2
}
